{
 "cells": [
  {
   "cell_type": "markdown",
   "metadata": {},
   "source": [
    "# Finite-Difference Method Solution For The Wave Equation"
   ]
  },
  {
   "cell_type": "markdown",
   "metadata": {},
   "source": [
    "Computational Physics Project 03 | *Joseph Godoy*\n",
    "\n",
    "---\n",
    "\n",
    "**Theory**\n",
    "\n",
    "The behavior of a transverse disturbance propagating through a string is described by the aptly-named *Wave Equation*, a second-order DE.\n",
    "\n",
    "$$\\dfrac{\\partial u^2(x,t)}{\\partial x^2}=\\dfrac{\\rho}{F_t} \\dfrac{\\partial u^2(x,t)}{\\partial t^2}$$\n",
    "\n",
    "\n",
    "where $F_T$ is the string's tension and $\\rho$ is the string's linear density $\\frac{M}{L}$. Solving a wave equation is fairly straightforward if you're willing to solve a separable DE. If you're not, no worries: the wave equation can also be solved numerically through the *finite difference method*, a technique that relates derivatives to difference equations.\n",
    "\n",
    "$$\\dfrac{\\partial u^2(x,t)}{\\partial x^2} \\approx \\frac{u(x+h,t)-2u(x,t)+u(x-h,t)}{h^2}$$\n",
    "\n",
    "After massaging the expression, we can obtain an approximate solution form that is useful for computation.\n",
    "\n",
    "$$u_{m}^{n+1} = 2(1-\\beta^2)u_m^n - u_m^{n-1} + \\beta^2(u_{m-1}^n+u_{m+1}^n)$$\n",
    "\n",
    "We can time-evolve this expression and populate arrays with the time steps and displacements it yields.\n",
    "\n",
    "---"
   ]
  },
  {
   "cell_type": "markdown",
   "metadata": {},
   "source": [
    "**Computation**\n",
    "\n",
    "This program is based on (and includes) the work of High Point University's Dr. Aaron Titus, as well as Thomas Boudreaux's animation functions.\n",
    "\n",
    "In this program we will:\n",
    "\n",
    "* Animate a string with a travelling Gaussian disturbance and a free right-end\n",
    "\n",
    "* Find the system's eigenvalues, eigenvectors, and plot its normal modes\n",
    "\n",
    "* Time-evolve the system under various conditions\n",
    "\n",
    "---"
   ]
  },
  {
   "cell_type": "code",
   "execution_count": 1,
   "metadata": {},
   "outputs": [
    {
     "name": "stderr",
     "output_type": "stream",
     "text": [
      "/home/joseph/libs/Anaconda/lib/python3.5/importlib/_bootstrap.py:222: RuntimeWarning: numpy.dtype size changed, may indicate binary incompatibility. Expected 96, got 88\n",
      "  return f(*args, **kwds)\n",
      "/home/joseph/libs/Anaconda/lib/python3.5/importlib/_bootstrap.py:222: RuntimeWarning: numpy.dtype size changed, may indicate binary incompatibility. Expected 96, got 88\n",
      "  return f(*args, **kwds)\n",
      "/home/joseph/libs/Anaconda/lib/python3.5/importlib/_bootstrap.py:222: RuntimeWarning: numpy.dtype size changed, may indicate binary incompatibility. Expected 96, got 88\n",
      "  return f(*args, **kwds)\n"
     ]
    }
   ],
   "source": [
    "import numpy as np\n",
    "import matplotlib.pyplot as plt\n",
    "from IPython.display import HTML\n",
    "import ode\n",
    "from mplEasyAnimate import animation\n",
    "from tqdm import tqdm\n",
    "from scipy.optimize import curve_fit\n",
    "from scipy.linalg import toeplitz\n",
    "from numpy import linalg as lin\n",
    "import seaborn\n",
    "seaborn.set();"
   ]
  },
  {
   "cell_type": "code",
   "execution_count": 2,
   "metadata": {},
   "outputs": [],
   "source": [
    "def wavemotion(u0, u1):\n",
    "    u2 = 2*(1-b)*u1 - u0                     \n",
    "    u2[1:-1] += b*( u1[0:-2] + u1[2:] )      \n",
    "    return u2\n",
    "\n",
    "def gaussian(x):\n",
    "    return np.exp(-(x-5)**2)\n",
    "\n",
    "def playVideo(path):\n",
    "    return HTML(\"\"\"\n",
    "                <video width=\"320\" height=\"240\" controls>\n",
    "                  <source src=\"{}\" type=\"video/mp4\">\n",
    "                </video>\n",
    "                \"\"\".format(path))\n",
    "\n",
    "## Tools for manipulating matrices\n",
    "\n",
    "def fill_upper(matrix, value):\n",
    "    for i in range(0,len(matrix)-1,1):\n",
    "        if i % 2 == 0:\n",
    "            matrix[i][i+1] = value\n",
    "        elif i % 2 == 1:\n",
    "            matrix[i][i+1] = value\n",
    "\n",
    "def fill_lower(matrix, value):\n",
    "    for i in range(0,len(matrix)-1,1):\n",
    "        if i % 2 == 0:\n",
    "            matrix[i+1][i] = value\n",
    "        elif i % 2 == 1:\n",
    "            matrix[i+1][i] = value\n",
    "\n",
    "def fill_diagonal(matrix, value):\n",
    "    for i in range(0,len(matrix),1):\n",
    "        matrix[i][i] = value\n",
    "\n",
    "def banded_matrix(size, a, b, c, d):\n",
    "    \n",
    "    # Main diagonal and unused elements set to 0.\n",
    "    \n",
    "    row_one, row_two = [0],[0]\n",
    "\n",
    "    # Diagonals are filled from the bottom up;\n",
    "    # The first argument represents the lowest band,\n",
    "    # The last argument represents the highest band.\n",
    "    \n",
    "    row_one.append(b) \n",
    "    row_one.append(a) \n",
    "    row_two.append(c) \n",
    "    row_two.append(d) \n",
    "    \n",
    "    # The rest of the diagonals are filled with zeroes.\n",
    "    \n",
    "    for i in range(size-3): \n",
    "        row_one.append(0)\n",
    "        row_two.append(0)\n",
    "\n",
    "    # The matrix is generated and returned.\n",
    "    \n",
    "    return toeplitz(row_one, row_two)\n",
    "\n",
    "# This function is passed the number of elements in your string, N,\n",
    "# the length of the string, L, and your time array. It returns \n",
    "# the system's eigenvalues and eigenvectors, and plots the normal modes.\n",
    "\n",
    "def eigenstuff(N, L, ta):\n",
    "    \n",
    "    L0 = L\n",
    "    N = N\n",
    "    k = 1\n",
    "    m = 1\n",
    "    t = 1 \n",
    "    phi = 1 \n",
    "\n",
    "    x_values = []\n",
    "    for val in np.linspace(0,N,N):\n",
    "        x_values.append(val*L0)\n",
    "\n",
    "    column = np.zeros((N,1))\n",
    "    column[0][0] = 0.2\n",
    "    coefficient_matrix = banded_matrix(N, 0.0,-k,-k,0.0)\n",
    "    mass_matrix = banded_matrix(N,0.0,0.0,0.0,0.0)\n",
    "\n",
    "    fill_diagonal(mass_matrix, m)\n",
    "    fill_diagonal(coefficient_matrix, 2*k)\n",
    "    eigenvalues, eigenvectors = lin.eigh(coefficient_matrix)\n",
    "\n",
    "    eigenfrequencies  = np.sqrt(eigenvalues)\n",
    "    general_solution_terms = []\n",
    "    amplitudes = np.linalg.solve(eigenvectors, column)\n",
    "\n",
    "    i, gstsum = 0, 0\n",
    "    times = ta\n",
    "    general_solutions = []\n",
    "\n",
    "    plt.figure(figsize=[20,10])\n",
    "    plt.title(\"Normal modes\")\n",
    "    for time in times:\n",
    "        for eigenvector in eigenvectors:\n",
    "            general_solution_terms.append(eigenvector * np.cos(eigenfrequencies[0]*time))\n",
    "            gstsum += general_solution_terms[i]\n",
    "            i += 1\n",
    "        plt.plot(x_values, gstsum)\n",
    "        i = 0\n",
    "        \n",
    "    return eigenvalues, eigenvectors"
   ]
  },
  {
   "cell_type": "markdown",
   "metadata": {},
   "source": [
    "**Boundary Conditions for a free-ended string:**\n",
    "\n",
    "To make the string's right end free, we only need to couple the displacement of the last element in our string to the second-to-last element, which will make the string's end move freely. Line 4 of the block below accomplishes this cleanly and succinctly."
   ]
  },
  {
   "cell_type": "markdown",
   "metadata": {},
   "source": [
    "Many thanks to Thomas Boudreaux for the nifty *easyanimate_string* function."
   ]
  },
  {
   "cell_type": "code",
   "execution_count": 5,
   "metadata": {},
   "outputs": [],
   "source": [
    "def easyanimate_string(t_array, u_array, filename):\n",
    "    xa = np.linspace(0., L, N+1)\n",
    "    t_offsets = t_array\n",
    "    anim = animation(filename)\n",
    "    i=0\n",
    "    for offset in tqdm(t_offsets):\n",
    "        fig, ax = plt.subplots(1, 1, figsize=(15, 7))\n",
    "        ax.plot(xa, u_array[i,:])\n",
    "        ax.set_xlim(0,L)\n",
    "        ax.set_ylim(-1.1,1.1)\n",
    "        anim.add_frame(fig)\n",
    "        plt.close(fig)\n",
    "        i=i+1\n",
    "    anim.close()    "
   ]
  },
  {
   "cell_type": "code",
   "execution_count": 8,
   "metadata": {},
   "outputs": [
    {
     "data": {
      "text/plain": [
       "(201, 101)"
      ]
     },
     "execution_count": 8,
     "metadata": {},
     "output_type": "execute_result"
    }
   ],
   "source": [
    "L, N = 10, 100                # Length of string, number of intervals\n",
    "b = 1.0                       # Beta squared\n",
    "h = L/N\n",
    "t_total = 20\n",
    "N_t = 200                     # Number of time intervals\n",
    "dt = t_total/N_t\n",
    "t = 0\n",
    "ta = np.linspace(0,t_total,N_t+1)\n",
    "x = np.linspace(0, L, N+1)\n",
    "u0 = gaussian(x)\n",
    "u1 = gaussian(x-b*h)\n",
    "data = np.zeros((N_t+1,N+1))  \n",
    "data[0]=u0\n",
    "data[1]=u1\n",
    "for i in range(N_t):\n",
    "    u2 = wavemotion(u0, u1)\n",
    "    u0, u1 = u1, u2\n",
    "    u2[-1] = u2[-2]\n",
    "    data[i]=u2\n",
    "data.shape"
   ]
  },
  {
   "cell_type": "code",
   "execution_count": 9,
   "metadata": {},
   "outputs": [
    {
     "name": "stderr",
     "output_type": "stream",
     "text": [
      "100%|██████████| 201/201 [00:45<00:00,  4.38it/s]\n"
     ]
    }
   ],
   "source": [
    "file='gaussian-free-end.mp4'\n",
    "easyanimate_string(ta,data,file)"
   ]
  },
  {
   "cell_type": "code",
   "execution_count": 10,
   "metadata": {},
   "outputs": [
    {
     "data": {
      "text/html": [
       "\n",
       "                <video width=\"320\" height=\"240\" controls>\n",
       "                  <source src=\"gaussian-free-end.mp4\" type=\"video/mp4\">\n",
       "                </video>\n",
       "                "
      ],
      "text/plain": [
       "<IPython.core.display.HTML object>"
      ]
     },
     "execution_count": 10,
     "metadata": {},
     "output_type": "execute_result"
    }
   ],
   "source": [
    "playVideo(file)"
   ]
  },
  {
   "cell_type": "markdown",
   "metadata": {},
   "source": [
    "Next, we can use the **eigenstuff** function (defined and documented earlier in the program) to find the system's eigenvalues and eigenvectors, and plot its normal modes."
   ]
  },
  {
   "cell_type": "code",
   "execution_count": 11,
   "metadata": {},
   "outputs": [
    {
     "data": {
      "image/png": "[encoded data removed]",
      "text/plain": [
       "<Figure size 1440x720 with 1 Axes>"
      ]
     },
     "metadata": {},
     "output_type": "display_data"
    }
   ],
   "source": [
    "eigenvalues, eigenvectors = eigenstuff(N,L,ta)"
   ]
  },
  {
   "cell_type": "code",
   "execution_count": 12,
   "metadata": {},
   "outputs": [],
   "source": [
    "# Uncomment this line if you'd like to see the eigenvectors and eigenvalues.\n",
    "# print(eigenvalues, eigenvectors)"
   ]
  },
  {
   "cell_type": "code",
   "execution_count": 29,
   "metadata": {},
   "outputs": [
    {
     "data": {
      "image/png": "[encoded data removed]",
      "text/plain": [
       "<Figure size 432x288 with 1 Axes>"
      ]
     },
     "metadata": {},
     "output_type": "display_data"
    }
   ],
   "source": [
    "L, N = 10, 100          \n",
    "b = 1.0                   \n",
    "h = L/N\n",
    "\n",
    "t_total = 20\n",
    "N_t = 200 \n",
    "dt = t_total/N_t\n",
    "t = 0\n",
    "ta = np.linspace(0,t_total,N_t+1)\n",
    "\n",
    "A = 0.5\n",
    "lamb = 2*L\n",
    "v = b*h/dt\n",
    "f = v/lamb\n",
    "k=2*np.pi/lamb\n",
    "\n",
    "x = np.linspace(0, L, N+1)\n",
    "u0 = 2.0/np.cosh(x-5)\n",
    "u1 = 1.0/np.cosh(x-v*dt-5)+1.0/np.cosh(x+v*dt-5)\n",
    "\n",
    "data = np.zeros((N_t+1,N+1)) \n",
    "data[0]=u0\n",
    "data[1]=u1\n",
    "\n",
    "for i in range(N_t):\n",
    "    u2 = wavemotion(u0, u1)\n",
    "    u0, u1 = u1, u2\n",
    "    u2[-1] = u2[-2]\n",
    "    data[i]=u2\n",
    "\n",
    "data.shape\n",
    "\n",
    "plt.figure()\n",
    "plt.title(\"Initial Condition: Hyperbolic Secant\")\n",
    "plt.plot(x,data[0,:], '-', label='u_i')\n",
    "plt.xlabel('x (m)')\n",
    "plt.ylabel('y (m)')\n",
    "plt.legend(loc='lower right')\n",
    "plt.show()"
   ]
  },
  {
   "cell_type": "markdown",
   "metadata": {},
   "source": [
    "Let's disturb the free-ended string in the shape of a right-shifted and stretched hyperbolic secant function and see what happens."
   ]
  },
  {
   "cell_type": "code",
   "execution_count": 30,
   "metadata": {},
   "outputs": [
    {
     "name": "stderr",
     "output_type": "stream",
     "text": [
      "100%|██████████| 201/201 [00:46<00:00,  4.31it/s]\n"
     ]
    }
   ],
   "source": [
    "file='hyperbolic-secant-free-end.mp4'\n",
    "easyanimate_string(ta,data,file)"
   ]
  },
  {
   "cell_type": "code",
   "execution_count": 31,
   "metadata": {},
   "outputs": [
    {
     "data": {
      "text/html": [
       "\n",
       "                <video width=\"320\" height=\"240\" controls>\n",
       "                  <source src=\"hyperbolic-secant-free-end.mp4\" type=\"video/mp4\">\n",
       "                </video>\n",
       "                "
      ],
      "text/plain": [
       "<IPython.core.display.HTML object>"
      ]
     },
     "execution_count": 31,
     "metadata": {},
     "output_type": "execute_result"
    }
   ],
   "source": [
    "playVideo(file)"
   ]
  },
  {
   "cell_type": "code",
   "execution_count": 32,
   "metadata": {},
   "outputs": [
    {
     "data": {
      "image/png": "[encoded data removed]",
      "text/plain": [
       "<Figure size 432x288 with 1 Axes>"
      ]
     },
     "metadata": {},
     "output_type": "display_data"
    }
   ],
   "source": [
    "L, N = 10, 100          \n",
    "b = 1.0                   \n",
    "h = L/N\n",
    "\n",
    "t_total = 20\n",
    "N_t = 200 \n",
    "dt = t_total/N_t\n",
    "t = 0\n",
    "ta = np.linspace(0,t_total,N_t+1)\n",
    "\n",
    "A = 0.5\n",
    "lamb = 2*L\n",
    "v = b*h/dt\n",
    "f = v/lamb\n",
    "k=2*np.pi/lamb\n",
    "\n",
    "x = np.linspace(0, L, N+1)\n",
    "u0 = 2*np.tanh(x-5)\n",
    "u1 = np.tanh(x-v*dt-5)+np.tanh(x+v*dt-5)\n",
    "\n",
    "data = np.zeros((N_t+1,N+1)) \n",
    "data[0]=u0\n",
    "data[1]=u1\n",
    "\n",
    "for i in range(N_t):\n",
    "    u2 = wavemotion(u0, u1)\n",
    "    u0, u1 = u1, u2\n",
    "    u2[-1] = u2[-2]\n",
    "    data[i]=u2\n",
    "\n",
    "data.shape\n",
    "\n",
    "plt.figure()\n",
    "plt.title(\"Initial Condition: Hyperbolic Tangent\")\n",
    "plt.plot(x,data[0,:], '-', label='u_i')\n",
    "plt.xlabel('x (m)')\n",
    "plt.ylabel('y (m)')\n",
    "plt.legend(loc='lower right')\n",
    "plt.show()"
   ]
  },
  {
   "cell_type": "code",
   "execution_count": 33,
   "metadata": {},
   "outputs": [
    {
     "name": "stderr",
     "output_type": "stream",
     "text": [
      "100%|██████████| 201/201 [00:49<00:00,  4.04it/s]\n"
     ]
    }
   ],
   "source": [
    "file='hyperbolic-tangent-free-end.mp4'\n",
    "easyanimate_string(ta,data,file)"
   ]
  },
  {
   "cell_type": "code",
   "execution_count": 34,
   "metadata": {},
   "outputs": [
    {
     "data": {
      "text/html": [
       "\n",
       "                <video width=\"320\" height=\"240\" controls>\n",
       "                  <source src=\"hyperbolic-tangent-free-end.mp4\" type=\"video/mp4\">\n",
       "                </video>\n",
       "                "
      ],
      "text/plain": [
       "<IPython.core.display.HTML object>"
      ]
     },
     "execution_count": 34,
     "metadata": {},
     "output_type": "execute_result"
    }
   ],
   "source": [
    "playVideo(file)"
   ]
  },
  {
   "cell_type": "code",
   "execution_count": null,
   "metadata": {},
   "outputs": [],
   "source": []
  }
 ],
 "metadata": {
  "kernelspec": {
   "display_name": "Python [default]",
   "language": "python",
   "name": "python3"
  },
  "language_info": {
   "codemirror_mode": {
    "name": "ipython",
    "version": 3
   },
   "file_extension": ".py",
   "mimetype": "text/x-python",
   "name": "python",
   "nbconvert_exporter": "python",
   "pygments_lexer": "ipython3",
   "version": "3.5.5"
  }
 },
 "nbformat": 4,
 "nbformat_minor": 2
}
